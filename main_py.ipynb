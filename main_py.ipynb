{
  "cells": [
    {
      "cell_type": "markdown",
      "metadata": {
        "id": "view-in-github",
        "colab_type": "text"
      },
      "source": [
        "<a href=\"https://colab.research.google.com/github/Vaishnavipatil10/main/blob/main/main_py.ipynb\" target=\"_parent\"><img src=\"https://colab.research.google.com/assets/colab-badge.svg\" alt=\"Open In Colab\"/></a>"
      ]
    },
    {
      "cell_type": "code",
      "execution_count": 31,
      "metadata": {
        "colab": {
          "base_uri": "https://localhost:8080/"
        },
        "id": "8rUIKrx9mORd",
        "outputId": "4c7c9bb4-4f46-4108-dc9f-2f698a280821"
      },
      "outputs": [
        {
          "output_type": "stream",
          "name": "stdout",
          "text": [
            "Requirement already satisfied: fastapi in /usr/local/lib/python3.11/dist-packages (0.115.12)\n",
            "Requirement already satisfied: uvicorn in /usr/local/lib/python3.11/dist-packages (0.34.0)\n",
            "Requirement already satisfied: pyngrok in /usr/local/lib/python3.11/dist-packages (7.2.3)\n",
            "Requirement already satisfied: starlette<0.47.0,>=0.40.0 in /usr/local/lib/python3.11/dist-packages (from fastapi) (0.46.1)\n",
            "Requirement already satisfied: pydantic!=1.8,!=1.8.1,!=2.0.0,!=2.0.1,!=2.1.0,<3.0.0,>=1.7.4 in /usr/local/lib/python3.11/dist-packages (from fastapi) (2.10.6)\n",
            "Requirement already satisfied: typing-extensions>=4.8.0 in /usr/local/lib/python3.11/dist-packages (from fastapi) (4.12.2)\n",
            "Requirement already satisfied: click>=7.0 in /usr/local/lib/python3.11/dist-packages (from uvicorn) (8.1.8)\n",
            "Requirement already satisfied: h11>=0.8 in /usr/local/lib/python3.11/dist-packages (from uvicorn) (0.14.0)\n",
            "Requirement already satisfied: PyYAML>=5.1 in /usr/local/lib/python3.11/dist-packages (from pyngrok) (6.0.2)\n",
            "Requirement already satisfied: annotated-types>=0.6.0 in /usr/local/lib/python3.11/dist-packages (from pydantic!=1.8,!=1.8.1,!=2.0.0,!=2.0.1,!=2.1.0,<3.0.0,>=1.7.4->fastapi) (0.7.0)\n",
            "Requirement already satisfied: pydantic-core==2.27.2 in /usr/local/lib/python3.11/dist-packages (from pydantic!=1.8,!=1.8.1,!=2.0.0,!=2.0.1,!=2.1.0,<3.0.0,>=1.7.4->fastapi) (2.27.2)\n",
            "Requirement already satisfied: anyio<5,>=3.6.2 in /usr/local/lib/python3.11/dist-packages (from starlette<0.47.0,>=0.40.0->fastapi) (4.9.0)\n",
            "Requirement already satisfied: idna>=2.8 in /usr/local/lib/python3.11/dist-packages (from anyio<5,>=3.6.2->starlette<0.47.0,>=0.40.0->fastapi) (3.10)\n",
            "Requirement already satisfied: sniffio>=1.1 in /usr/local/lib/python3.11/dist-packages (from anyio<5,>=3.6.2->starlette<0.47.0,>=0.40.0->fastapi) (1.3.1)\n"
          ]
        }
      ],
      "source": [
        "!pip install fastapi uvicorn pyngrok\n",
        "\n",
        "\n",
        "\n"
      ]
    },
    {
      "cell_type": "code",
      "execution_count": 28,
      "metadata": {
        "id": "y4EAGSpnqPna"
      },
      "outputs": [],
      "source": [
        "from fastapi import FastAPI\n",
        "from pydantic import BaseModel\n",
        "import json\n",
        "\n",
        "# Create FastAPI app\n",
        "app = FastAPI()\n",
        "\n",
        "# Define chatbot responses (FAQs)\n",
        "faq = {\n",
        "    \"hi\": \"Hello! How can I assist you?\",\n",
        "    \"hello\": \"Hey there! What do you need help with?\",\n",
        "    \"how to invest?\": \"You can start investing by signing up on our platform and choosing a plan.\",\n",
        "    \"what is a token?\": \"A token is a digital asset representing ownership or value linked to an investment.\",\n",
        "    \"how to withdraw funds?\": \"You can withdraw funds via the dashboard under the 'Withdraw' section.\",\n",
        "    \"track investments\": \"You can track investments in the portfolio section of the app.\",\n",
        "    \"minimum investment\": \"The minimum investment amount is $500.\",\n",
        "}\n",
        "\n",
        "# Request model\n",
        "class Query(BaseModel):\n",
        "    message: str\n",
        "\n",
        "# Root endpoint\n",
        "@app.get(\"/\")\n",
        "def home():\n",
        "    return {\"message\": \"FastAPI chatbot is running on Google Colab!\"}\n",
        "\n",
        "# Chatbot API endpoint\n",
        "@app.post(\"/chat\")\n",
        "def chat(request: Query):\n",
        "    user_message = request.message.lower()\n",
        "    response = faq.get(user_message, \"I'm sorry, I don't have information on that. Please ask another question.\")\n",
        "    return {\"response\": response}\n",
        "\n",
        "# Save the code as a Python file for running\n",
        "with open(\"main.py\", \"w\") as f:\n",
        "    f.write(\"\"\"\n",
        "from fastapi import FastAPI\n",
        "from pydantic import BaseModel\n",
        "\n",
        "app = FastAPI()\n",
        "\n",
        "faq = {\n",
        "    \"hi\": \"Hello! How can I assist you?\",\n",
        "    \"hello\": \"Hey there! What do you need help with?\",\n",
        "    \"how to invest?\": \"You can start investing by signing up on our platform and choosing a plan.\",\n",
        "    \"what is a token?\": \"A token is a digital asset representing ownership or value linked to an investment.\",\n",
        "    \"how to withdraw funds?\": \"You can withdraw funds via the dashboard under the 'Withdraw' section.\",\n",
        "    \"track investments\": \"You can track investments in the portfolio section of the app.\",\n",
        "    \"minimum investment\": \"The minimum investment amount is $500.\",\n",
        "}\n",
        "\n",
        "class Query(BaseModel):\n",
        "    message: str\n",
        "\n",
        "@app.get(\"/\")\n",
        "def home():\n",
        "    return {\"message\": \"FastAPI chatbot is running on Google Colab!\"}\n",
        "\n",
        "@app.post(\"/chat\")\n",
        "def chat(request: Query):\n",
        "    user_message = request.message.lower()\n",
        "    response = faq.get(user_message, \"I'm sorry, I don't have information on that. Please ask another question.\")\n",
        "    return {\"response\": response}\n",
        "\"\"\")\n",
        "\n"
      ]
    },
    {
      "cell_type": "code",
      "execution_count": 29,
      "metadata": {
        "colab": {
          "base_uri": "https://localhost:8080/"
        },
        "id": "7J5U4bH2qbUk",
        "outputId": "72f807de-a2f2-442d-f091-fdef36c6f39c"
      },
      "outputs": [
        {
          "output_type": "stream",
          "name": "stdout",
          "text": [
            "\u001b[32mINFO\u001b[0m:     Will watch for changes in these directories: ['/content']\n",
            "\u001b[32mINFO\u001b[0m:     Uvicorn running on \u001b[1mhttp://0.0.0.0:8000\u001b[0m (Press CTRL+C to quit)\n",
            "\u001b[32mINFO\u001b[0m:     Started reloader process [\u001b[36m\u001b[1m38639\u001b[0m] using \u001b[36m\u001b[1mStatReload\u001b[0m\n",
            "\u001b[32mINFO\u001b[0m:     Started server process [\u001b[36m38641\u001b[0m]\n",
            "\u001b[32mINFO\u001b[0m:     Waiting for application startup.\n",
            "\u001b[32mINFO\u001b[0m:     Application startup complete.\n",
            "\u001b[32mINFO\u001b[0m:     Shutting down\n",
            "\u001b[32mINFO\u001b[0m:     Waiting for application shutdown.\n",
            "\u001b[32mINFO\u001b[0m:     Application shutdown complete.\n",
            "\u001b[32mINFO\u001b[0m:     Finished server process [\u001b[36m38641\u001b[0m]\n",
            "\u001b[32mINFO\u001b[0m:     Stopping reloader process [\u001b[36m\u001b[1m38639\u001b[0m]\n"
          ]
        }
      ],
      "source": [
        "!uvicorn main:app --host 0.0.0.0 --port 8000 --reload &\n",
        "\n"
      ]
    },
    {
      "cell_type": "code",
      "execution_count": 47,
      "metadata": {
        "id": "JdLUCTFys9YI",
        "colab": {
          "base_uri": "https://localhost:8080/"
        },
        "outputId": "27b9cf45-b499-452c-9e57-9bbd703e8885"
      },
      "outputs": [
        {
          "output_type": "stream",
          "name": "stdout",
          "text": [
            "Requirement already satisfied: pyngrok in /usr/local/lib/python3.11/dist-packages (7.2.3)\n",
            "Requirement already satisfied: PyYAML>=5.1 in /usr/local/lib/python3.11/dist-packages (from pyngrok) (6.0.2)\n",
            "Authtoken saved to configuration file: /root/.config/ngrok/ngrok.yml\n"
          ]
        }
      ],
      "source": [
        "!pip install pyngrok\n",
        "!ngrok authtoken 2unJOXfd0ScL3OgUW8vwkouRNx5_7rvRfprfFD93jpUJLyJ1a  # Replace with your ngrok token\n",
        "\n",
        "\n"
      ]
    },
    {
      "cell_type": "code",
      "source": [
        "from fastapi import FastAPI\n",
        "from pydantic import BaseModel\n",
        "from pyngrok import ngrok\n",
        "\n",
        "app = FastAPI()\n",
        "\n",
        "# Define request model\n",
        "class ChatRequest(BaseModel):\n",
        "    message: str\n",
        "\n",
        "# Simple chatbot logic\n",
        "@app.post(\"/chat\")\n",
        "async def chat_endpoint(request: ChatRequest):\n",
        "    return {\"response\": f\"Bot: You said '{request.message}'\"}\n",
        "\n",
        "# Start ngrok to expose the API publicly\n",
        "ngrok_tunnel = ngrok.connect(8000)\n",
        "print(f\"Public URL: {ngrok_tunnel.public_url}\")\n",
        "\n",
        "\n"
      ],
      "metadata": {
        "colab": {
          "base_uri": "https://localhost:8080/"
        },
        "id": "aq48vaD5H5KW",
        "outputId": "4c4bdd8b-fe02-4a36-df8f-a2e7915acec6"
      },
      "execution_count": 46,
      "outputs": [
        {
          "output_type": "stream",
          "name": "stdout",
          "text": [
            "Public URL: https://0f04-35-201-206-110.ngrok-free.app\n"
          ]
        }
      ]
    },
    {
      "cell_type": "code",
      "source": [
        "!uvicorn main:app --host 0.0.0.0 --port 8000\n"
      ],
      "metadata": {
        "colab": {
          "base_uri": "https://localhost:8080/"
        },
        "id": "gKhrR6psL2Ye",
        "outputId": "09c606a9-7717-4b84-9fb3-8f8357a12a4b"
      },
      "execution_count": null,
      "outputs": [
        {
          "output_type": "stream",
          "name": "stdout",
          "text": [
            "\u001b[32mINFO\u001b[0m:     Started server process [\u001b[36m68884\u001b[0m]\n",
            "\u001b[32mINFO\u001b[0m:     Waiting for application startup.\n",
            "\u001b[32mINFO\u001b[0m:     Application startup complete.\n",
            "\u001b[32mINFO\u001b[0m:     Uvicorn running on \u001b[1mhttp://0.0.0.0:8000\u001b[0m (Press CTRL+C to quit)\n",
            "\u001b[32mINFO\u001b[0m:     152.58.23.213:0 - \"\u001b[1mPOST /chat HTTP/1.1\u001b[0m\" \u001b[32m200 OK\u001b[0m\n",
            "\u001b[32mINFO\u001b[0m:     152.58.23.213:0 - \"\u001b[1mPOST /chat HTTP/1.1\u001b[0m\" \u001b[32m200 OK\u001b[0m\n",
            "\u001b[32mINFO\u001b[0m:     152.58.23.213:0 - \"\u001b[1mPOST /chat HTTP/1.1\u001b[0m\" \u001b[31m422 Unprocessable Entity\u001b[0m\n",
            "\u001b[32mINFO\u001b[0m:     152.58.23.213:0 - \"\u001b[1mPOST /chat HTTP/1.1\u001b[0m\" \u001b[32m200 OK\u001b[0m\n",
            "\u001b[32mINFO\u001b[0m:     152.58.23.213:0 - \"\u001b[1mPOST /chat HTTP/1.1\u001b[0m\" \u001b[32m200 OK\u001b[0m\n",
            "\u001b[32mINFO\u001b[0m:     152.58.23.213:0 - \"\u001b[1mPOST /chat HTTP/1.1\u001b[0m\" \u001b[32m200 OK\u001b[0m\n"
          ]
        }
      ]
    },
    {
      "cell_type": "code",
      "source": [],
      "metadata": {
        "id": "NzOD1jlrRuLN"
      },
      "execution_count": null,
      "outputs": []
    }
  ],
  "metadata": {
    "colab": {
      "provenance": [],
      "authorship_tag": "ABX9TyMV6Rv2mmMIE+82s3SSVJ9u",
      "include_colab_link": true
    },
    "kernelspec": {
      "display_name": "Python 3",
      "name": "python3"
    },
    "language_info": {
      "name": "python"
    }
  },
  "nbformat": 4,
  "nbformat_minor": 0
}